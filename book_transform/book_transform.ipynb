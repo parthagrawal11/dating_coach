{
 "cells": [
  {
   "cell_type": "code",
   "execution_count": 4,
   "id": "97264ed5",
   "metadata": {},
   "outputs": [
    {
     "name": "stdout",
     "output_type": "stream",
     "text": [
      "Processed 442 samples. Saved to D:/Python/dating coach/formatted_book_data.csv\n"
     ]
    }
   ],
   "source": [
    "import pdfplumber\n",
    "import re\n",
    "import pandas as pd\n",
    "from datasets import Dataset\n",
    "\n",
    "def is_heading(line):\n",
    "    \"\"\"Identify if a line is a heading based on simple heuristics.\"\"\"\n",
    "    return line.isupper() or len(line.split()) < 5\n",
    "\n",
    "def extract_sections_from_pdf(pdf_path):\n",
    "    \"\"\"Extract sections from a PDF by identifying headings and their content.\"\"\"\n",
    "    sections = []\n",
    "    with pdfplumber.open(pdf_path) as pdf:\n",
    "        current_section = None\n",
    "        for page in pdf.pages:\n",
    "            text = page.extract_text()\n",
    "            if text:\n",
    "                lines = text.split('\\n')\n",
    "                for line in lines:\n",
    "                    if is_heading(line):\n",
    "                        if current_section:\n",
    "                            sections.append(current_section)\n",
    "                        current_section = {'title': line.strip(), 'content': ''}\n",
    "                    elif current_section:\n",
    "                        current_section['content'] += line + ' '\n",
    "        if current_section:\n",
    "            sections.append(current_section)\n",
    "    return sections\n",
    "\n",
    "def get_first_paragraph(content, max_sentences=3):\n",
    "    \"\"\"Extract the first few sentences from the content.\"\"\"\n",
    "    sentences = re.split(r'[.!?]\\s+', content.strip())\n",
    "    first_sentences = ' '.join(sentences[:max_sentences])\n",
    "    return first_sentences.strip()\n",
    "\n",
    "def format_book_sample(title, first_paragraph):\n",
    "    \"\"\"Format a section into a conversational Q&A sample.\"\"\"\n",
    "    user_query = f\"Tell me about {title.lower()}.\"\n",
    "    assistant_response = f\"Sure! {first_paragraph}\"\n",
    "    sample = f\"User: {user_query}\\nAssistant: {assistant_response}\"\n",
    "    return sample\n",
    "\n",
    "def preprocess_pdf_book(pdf_path, output_file='formatted_book_data.csv'):\n",
    "    \"\"\"Process a PDF book into conversational samples and save to a dataset.\"\"\"\n",
    "    sections = extract_sections_from_pdf(pdf_path)\n",
    "    samples = []\n",
    "    \n",
    "    for section in sections:\n",
    "        title = section['title']\n",
    "        first_paragraph = get_first_paragraph(section['content'])\n",
    "        if first_paragraph:\n",
    "            sample = format_book_sample(title, first_paragraph)\n",
    "            samples.append({'text': sample, 'title': title})\n",
    "    \n",
    "    # Save to CSV\n",
    "    df = pd.DataFrame(samples)\n",
    "    df.to_csv(output_file, index=False)\n",
    "    \n",
    "    # Convert to Dataset\n",
    "    dataset = Dataset.from_pandas(df[['text']])\n",
    "    return dataset, len(samples)\n",
    "\n",
    "# Example usage\n",
    "if __name__ == \"__main__\":\n",
    "    PDF_PATH = \"D:/Python/dating coach/book/Make Her Chase You_ The Guide To Attracting Girls Who Are ''Out Of Your League'' Even If You'Re Not Rich Or Handsome'' ( PDFDrive ).pdf\"  # Replace with your PDF file path\n",
    "    OUTPUT_FILE = \"D:/Python/dating coach/formatted_book_data.csv\"\n",
    "    dataset, sample_count = preprocess_pdf_book(PDF_PATH, OUTPUT_FILE)\n",
    "    print(f\"Processed {sample_count} samples. Saved to {OUTPUT_FILE}\")\n",
    "\n"
   ]
  },
  {
   "cell_type": "code",
   "execution_count": null,
   "id": "6e36f115",
   "metadata": {},
   "outputs": [],
   "source": []
  }
 ],
 "metadata": {
  "kernelspec": {
   "display_name": "book_env",
   "language": "python",
   "name": "python3"
  },
  "language_info": {
   "codemirror_mode": {
    "name": "ipython",
    "version": 3
   },
   "file_extension": ".py",
   "mimetype": "text/x-python",
   "name": "python",
   "nbconvert_exporter": "python",
   "pygments_lexer": "ipython3",
   "version": "3.10.17"
  }
 },
 "nbformat": 4,
 "nbformat_minor": 5
}
